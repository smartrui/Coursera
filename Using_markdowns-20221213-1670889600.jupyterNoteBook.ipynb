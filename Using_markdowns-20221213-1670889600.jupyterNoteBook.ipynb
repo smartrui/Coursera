# Write your markdown here
### Below are a few examples of evaluating arithmetic expressions in Python
# This a simple arithmetic expression to mutiply then add integers
(3*4)+5
# This will convert 200 minutes to hours by diving by 60
200/60
In this notebook, Data Science Tools and Ecosystem are summarized.
**Objectives:** 

#### List popular languages for Data Science
- Python
- R.
- SQL
- Java
- Scala
## Author:
GUO RUI
